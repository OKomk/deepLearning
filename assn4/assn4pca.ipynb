{
 "cells": [
  {
   "cell_type": "code",
   "execution_count": 3,
   "metadata": {},
   "outputs": [
    {
     "ename": "ModuleNotFoundError",
     "evalue": "No module named 'sklearn'",
     "output_type": "error",
     "traceback": [
      "\u001b[1;31m---------------------------------------------------------------------------\u001b[0m",
      "\u001b[1;31mModuleNotFoundError\u001b[0m                       Traceback (most recent call last)",
      "Cell \u001b[1;32mIn[3], line 2\u001b[0m\n\u001b[0;32m      1\u001b[0m \u001b[39mimport\u001b[39;00m \u001b[39mnumpy\u001b[39;00m \u001b[39mas\u001b[39;00m \u001b[39mnp\u001b[39;00m\n\u001b[1;32m----> 2\u001b[0m \u001b[39mfrom\u001b[39;00m \u001b[39msklearn\u001b[39;00m \u001b[39mimport\u001b[39;00m decomposition\n\u001b[0;32m      3\u001b[0m \u001b[39mfrom\u001b[39;00m \u001b[39mdecomposition\u001b[39;00m \u001b[39mimport\u001b[39;00m pCA\n\u001b[0;32m      4\u001b[0m \u001b[39mfrom\u001b[39;00m \u001b[39mtensorflow\u001b[39;00m\u001b[39m.\u001b[39;00m\u001b[39mkeras\u001b[39;00m\u001b[39m.\u001b[39;00m\u001b[39mmodels\u001b[39;00m \u001b[39mimport\u001b[39;00m Sequential\n",
      "\u001b[1;31mModuleNotFoundError\u001b[0m: No module named 'sklearn'"
     ]
    }
   ],
   "source": [
    "import numpy as np\n",
    "from sklearn import decomposition\n",
    "from decomposition import pCA\n",
    "from tensorflow.keras.models import Sequential\n",
    "from tensorflow.keras.layers import Dense\n",
    "\n",
    "# Load the dataset\n",
    "x_train = np.load('train_images.npy')\n",
    "y_train = np.load('train_labels.npy')\n",
    "x_val = np.load('val_images.npy')\n",
    "y_val = np.load('val_labels.npy')\n",
    "x_test = np.load('test_images.npy')\n",
    "y_test = np.load('test_labels.npy')\n",
    "\n",
    "# Preprocess the data\n",
    "x_train = (x_train - np.mean(x_train)) / np.std(x_train)\n",
    "x_val = (x_val - np.mean(x_train)) / np.std(x_train)\n",
    "x_test = (x_test - np.mean(x_train)) / np.std(x_train)\n",
    "x_train = x_train.reshape(x_train.shape[0], -1)\n",
    "x_val = x_val.reshape(x_val.shape[0], -1)\n",
    "x_test = x_test.reshape(x_test.shape[0], -1)\n",
    "\n",
    "# Perform PCA\n",
    "k_list = [32, 64, 128, 256]\n",
    "for k in k_list:\n",
    "    pca = PCA(n_components=k)\n",
    "    pca.fit(x_train)\n",
    "    x_train_pca = pca.transform(x_train)\n",
    "    x_val_pca = pca.transform(x_val)\n",
    "    x_test_pca = pca.transform(x_test)\n",
    "\n",
    "    # Train a FCNN classification model\n",
    "    model = Sequential()\n",
    "    model.add(Dense(units=128, activation='relu', input_dim=k))\n",
    "    model.add(Dense(units=10, activation='softmax'))\n",
    "    model.compile(loss='sparse_categorical_crossentropy', optimizer='adam', metrics=['accuracy'])\n",
    "    model.fit(x_train_pca, y_train, epochs=10, batch_size=32, validation_data=(x_val_pca, y_val))\n",
    "\n",
    "    # Evaluate the model on the validation set\n",
    "    _, val_acc = model.evaluate(x_val_pca, y_val)\n",
    "    print('Validation accuracy with k =', k, ':', val_acc)\n",
    "\n",
    "    # Evaluate the model on the test set\n",
    "    _, test_acc = model\n"
   ]
  }
 ],
 "metadata": {
  "kernelspec": {
   "display_name": "Python 3",
   "language": "python",
   "name": "python3"
  },
  "language_info": {
   "codemirror_mode": {
    "name": "ipython",
    "version": 3
   },
   "file_extension": ".py",
   "mimetype": "text/x-python",
   "name": "python",
   "nbconvert_exporter": "python",
   "pygments_lexer": "ipython3",
   "version": "3.10.4 (tags/v3.10.4:9d38120, Mar 23 2022, 23:13:41) [MSC v.1929 64 bit (AMD64)]"
  },
  "orig_nbformat": 4,
  "vscode": {
   "interpreter": {
    "hash": "369f2c481f4da34e4445cda3fffd2e751bd1c4d706f27375911949ba6bb62e1c"
   }
  }
 },
 "nbformat": 4,
 "nbformat_minor": 2
}
